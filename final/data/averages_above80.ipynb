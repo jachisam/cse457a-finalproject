{
 "cells": [
  {
   "cell_type": "code",
   "execution_count": 37,
   "metadata": {},
   "outputs": [
    {
     "name": "stdout",
     "output_type": "stream",
     "text": [
      "[328, 114, 4, 4.2, 4.2, 9.25, 1]\n"
     ]
    }
   ],
   "source": [
    "# Calculate Averages\n",
    "\n",
    "def average(l): \n",
    "    return sum(l) / len(l) \n",
    "\n",
    "import csv\n",
    "threshold = 0.80\n",
    "gres = []\n",
    "toefls = []\n",
    "urs = []\n",
    "sops = []\n",
    "lors = []\n",
    "cgpas = []\n",
    "rs = []\n",
    "with open('graduate-admissions/admission_cleaned.csv', newline='') as csvfile:\n",
    "    reader = csv.DictReader(csvfile)\n",
    "    for row in reader:\n",
    "        gre = int(row['GRE_Score'])\n",
    "        toefl = int(row['TOEFL_Score'])\n",
    "        ur = int(row['University_Rating'])\n",
    "        sop = float(row['SOP'])\n",
    "        lor = float(row['LOR'])\n",
    "        cgpa = float(row['CGPA'])\n",
    "        r = int(row['Research'])\n",
    "        coa = float(row['Chance_of_Admit'])\n",
    "        \n",
    "        if coa >= threshold:\n",
    "            gres.append(gre)\n",
    "            toefls.append(toefl)\n",
    "            urs.append(ur)\n",
    "            sops.append(sop)\n",
    "            lors.append(lor)\n",
    "            cgpas.append(cgpa)\n",
    "            rs.append(r)\n",
    "\n",
    "gres_average = int(round(average(gres),0))\n",
    "toefls_average = int(round(average(toefls),0))\n",
    "urs_average = int(round(average(urs),0))\n",
    "sops_average = round(average(sops),1)\n",
    "lors_average = round(average(lors),1)\n",
    "cgpas_average = round(average(cgpas),2)\n",
    "rs_average = int(round(average(rs),0))\n",
    "\n",
    "averages = [gres_average,toefls_average,urs_average,sops_average,lors_average,cgpas_average,rs_average]\n",
    "print(averages)"
   ]
  },
  {
   "cell_type": "code",
   "execution_count": null,
   "metadata": {},
   "outputs": [],
   "source": []
  },
  {
   "cell_type": "code",
   "execution_count": null,
   "metadata": {},
   "outputs": [],
   "source": []
  }
 ],
 "metadata": {
  "kernelspec": {
   "display_name": "Python 3",
   "language": "python",
   "name": "python3"
  },
  "language_info": {
   "codemirror_mode": {
    "name": "ipython",
    "version": 3
   },
   "file_extension": ".py",
   "mimetype": "text/x-python",
   "name": "python",
   "nbconvert_exporter": "python",
   "pygments_lexer": "ipython3",
   "version": "3.7.1"
  }
 },
 "nbformat": 4,
 "nbformat_minor": 2
}
